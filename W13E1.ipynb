{
 "cells": [
  {
   "cell_type": "code",
   "execution_count": 1,
   "id": "9066d16a-a3bd-49d0-8a47-a64d60306da2",
   "metadata": {},
   "outputs": [],
   "source": [
    "studenti = 25"
   ]
  },
  {
   "cell_type": "code",
   "execution_count": 2,
   "id": "fc37d001-631a-4e47-b764-0be2b2416630",
   "metadata": {},
   "outputs": [
    {
     "data": {
      "text/plain": [
       "25"
      ]
     },
     "execution_count": 2,
     "metadata": {},
     "output_type": "execute_result"
    }
   ],
   "source": [
    "studenti"
   ]
  },
  {
   "cell_type": "code",
   "execution_count": 3,
   "id": "ce1f1d25-1090-4842-bde9-4b6eec72f497",
   "metadata": {},
   "outputs": [
    {
     "name": "stdout",
     "output_type": "stream",
     "text": [
      "25\n"
     ]
    }
   ],
   "source": [
    "print(studenti)"
   ]
  },
  {
   "cell_type": "code",
   "execution_count": 4,
   "id": "6a50cc2c-60b4-4e2d-995e-eee2163d4b3a",
   "metadata": {},
   "outputs": [],
   "source": [
    "studenti_new = studenti + 3"
   ]
  },
  {
   "cell_type": "code",
   "execution_count": 5,
   "id": "523516b4-489d-420a-b565-308a47253805",
   "metadata": {},
   "outputs": [
    {
     "data": {
      "text/plain": [
       "28"
      ]
     },
     "execution_count": 5,
     "metadata": {},
     "output_type": "execute_result"
    }
   ],
   "source": [
    "studenti_new"
   ]
  },
  {
   "cell_type": "code",
   "execution_count": 6,
   "id": "942f8166-867e-426f-8c4f-df0a9870e64c",
   "metadata": {},
   "outputs": [],
   "source": [
    "somma_studenti = studenti + studenti_new"
   ]
  },
  {
   "cell_type": "code",
   "execution_count": 7,
   "id": "abd2f5ec-9071-4884-8a99-1d9258906184",
   "metadata": {},
   "outputs": [
    {
     "name": "stdout",
     "output_type": "stream",
     "text": [
      "53\n"
     ]
    }
   ],
   "source": [
    "print(somma_studenti)"
   ]
  },
  {
   "cell_type": "code",
   "execution_count": 8,
   "id": "84295925-6e1c-4320-8625-4b85449d5b6a",
   "metadata": {},
   "outputs": [],
   "source": [
    "epicode = \"Epicode\""
   ]
  },
  {
   "cell_type": "code",
   "execution_count": 28,
   "id": "39251d7a-f402-46a4-b1f3-030d03c26aad",
   "metadata": {},
   "outputs": [
    {
     "name": "stdout",
     "output_type": "stream",
     "text": [
      "Epicode\n"
     ]
    }
   ],
   "source": [
    "print(epicode)"
   ]
  },
  {
   "cell_type": "code",
   "execution_count": 18,
   "id": "b30e97da-28cd-4991-8bdd-daddc4da7acf",
   "metadata": {},
   "outputs": [],
   "source": [
    "my_string = 'I am studying Python'"
   ]
  },
  {
   "cell_type": "code",
   "execution_count": 20,
   "id": "91e6e250-ea37-48b9-b098-9a1e26786464",
   "metadata": {},
   "outputs": [
    {
     "data": {
      "text/plain": [
       "'I AM STUDYING PYTHON'"
      ]
     },
     "execution_count": 20,
     "metadata": {},
     "output_type": "execute_result"
    }
   ],
   "source": [
    "my_string.upper()"
   ]
  },
  {
   "cell_type": "code",
   "execution_count": 21,
   "id": "fd78c9a4-2651-43c1-a6be-16346b45947a",
   "metadata": {},
   "outputs": [
    {
     "data": {
      "text/plain": [
       "'i am studying python'"
      ]
     },
     "execution_count": 21,
     "metadata": {},
     "output_type": "execute_result"
    }
   ],
   "source": [
    "my_string.lower()"
   ]
  },
  {
   "cell_type": "code",
   "execution_count": 25,
   "id": "d0ffca1d-4a61-4751-a9c9-188e2a7dc842",
   "metadata": {},
   "outputs": [
    {
     "data": {
      "text/plain": [
       "'I am studying a lot'"
      ]
     },
     "execution_count": 25,
     "metadata": {},
     "output_type": "execute_result"
    }
   ],
   "source": [
    "my_string.replace('Python','a lot')"
   ]
  },
  {
   "cell_type": "code",
   "execution_count": 26,
   "id": "b395a41a-d9cd-4143-95e4-dd0506820ce4",
   "metadata": {},
   "outputs": [
    {
     "data": {
      "text/plain": [
       "'I am studying Python'"
      ]
     },
     "execution_count": 26,
     "metadata": {},
     "output_type": "execute_result"
    }
   ],
   "source": [
    "my_string.strip()"
   ]
  },
  {
   "cell_type": "code",
   "execution_count": 30,
   "id": "acb955d3-ae4d-46d4-a2b8-6ce46f59086a",
   "metadata": {},
   "outputs": [
    {
     "name": "stdout",
     "output_type": "stream",
     "text": [
      "36\n"
     ]
    }
   ],
   "source": [
    "x=10\n",
    "y=(x+2)*3\n",
    "print(y)"
   ]
  },
  {
   "cell_type": "code",
   "execution_count": 35,
   "id": "c98a41dd-14d2-4f0c-8095-e3b0113caafb",
   "metadata": {},
   "outputs": [
    {
     "name": "stdout",
     "output_type": "stream",
     "text": [
      " è compreso\n"
     ]
    }
   ],
   "source": [
    "str1= \"Windows\"\n",
    "if 5<len(str1)<8:\n",
    "    print(\" è compreso\")\n",
    "else:\n",
    "    print(\" non è compreso\")\n"
   ]
  },
  {
   "cell_type": "code",
   "execution_count": 36,
   "id": "b2bd72a3-fb81-45b4-87b5-73b1e301400a",
   "metadata": {},
   "outputs": [
    {
     "name": "stdout",
     "output_type": "stream",
     "text": [
      " non è compreso\n"
     ]
    }
   ],
   "source": [
    "str2= \"Excel\"\n",
    "if 5<len(str2)<8:\n",
    "    print(\" è compreso\")\n",
    "else:\n",
    "    print(\" non è compreso\")"
   ]
  },
  {
   "cell_type": "code",
   "execution_count": 37,
   "id": "0e12cb65-ec57-4d05-ab71-b615c21daba3",
   "metadata": {},
   "outputs": [
    {
     "name": "stdout",
     "output_type": "stream",
     "text": [
      " non è compreso\n"
     ]
    }
   ],
   "source": [
    "str3 = \"Powerpoint\"\n",
    "if 5<len(str3)<8:\n",
    "    print(\" è compreso\")\n",
    "else:\n",
    "    print(\" non è compreso\")"
   ]
  },
  {
   "cell_type": "code",
   "execution_count": 38,
   "id": "484506d6-fbfd-4edd-9593-d64f1bb0dac6",
   "metadata": {},
   "outputs": [
    {
     "name": "stdout",
     "output_type": "stream",
     "text": [
      " non è compreso\n"
     ]
    }
   ],
   "source": [
    "str4 = \"Word\"\n",
    "if 5<len(str4)<8:\n",
    "    print(\" è compreso\")\n",
    "else:\n",
    "    print(\" non è compreso\")"
   ]
  },
  {
   "cell_type": "code",
   "execution_count": 41,
   "id": "1b7020cc-cc06-4b0e-babe-d99b789d2a8b",
   "metadata": {},
   "outputs": [
    {
     "name": "stdout",
     "output_type": "stream",
     "text": [
      "i secondi in un anno non bisestile sono: 31536000\n"
     ]
    }
   ],
   "source": [
    "secondi= 60*60*24*365\n",
    "print(\"i secondi in un anno non bisestile sono:\",  secondi)"
   ]
  },
  {
   "cell_type": "code",
   "execution_count": null,
   "id": "800ded37-0f20-464b-a12f-7f56a201e53d",
   "metadata": {},
   "outputs": [],
   "source": []
  }
 ],
 "metadata": {
  "kernelspec": {
   "display_name": "Python 3 (ipykernel)",
   "language": "python",
   "name": "python3"
  },
  "language_info": {
   "codemirror_mode": {
    "name": "ipython",
    "version": 3
   },
   "file_extension": ".py",
   "mimetype": "text/x-python",
   "name": "python",
   "nbconvert_exporter": "python",
   "pygments_lexer": "ipython3",
   "version": "3.11.7"
  }
 },
 "nbformat": 4,
 "nbformat_minor": 5
}
