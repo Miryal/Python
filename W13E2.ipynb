{
 "cells": [
  {
   "cell_type": "code",
   "execution_count": 2,
   "id": "bc3944b4-1669-4b8c-ad5e-219e1c97f62f",
   "metadata": {},
   "outputs": [],
   "source": [
    "# Abbiamo la stringa: nome_scuola = \"Epicode\" Stampare ogni carattere della stringa, uno su ogni riga, utilizzando un costrutto while."
   ]
  },
  {
   "cell_type": "code",
   "execution_count": 1,
   "id": "673bb9c8-6134-4b23-8c68-6182feaea835",
   "metadata": {},
   "outputs": [
    {
     "name": "stdout",
     "output_type": "stream",
     "text": [
      "E\n",
      "p\n",
      "i\n",
      "c\n",
      "o\n",
      "d\n",
      "e\n"
     ]
    }
   ],
   "source": [
    "nome_scuola = \"Epicode\"\n",
    "contatore = 0\n",
    "while contatore <= len(nome_scuola)-1:\n",
    "    print(nome_scuola[contatore])\n",
    "    contatore += 1 "
   ]
  },
  {
   "cell_type": "code",
   "execution_count": 10,
   "id": "df375455-3df8-4cfa-aed3-c7e4771b2abd",
   "metadata": {},
   "outputs": [
    {
     "data": {
      "text/plain": [
       "'Stampare a video tutti i numeri da 0 a 20 utilizzando il costrutto while. \\nUtilizzeremo: un ciclo while \\nla funzione print() \\nuna variabile, che dovrà essere inizializzata \\nuna procedura di incremento'"
      ]
     },
     "execution_count": 10,
     "metadata": {},
     "output_type": "execute_result"
    }
   ],
   "source": [
    "\"\"\"Stampare a video tutti i numeri da 0 a 20 utilizzando il costrutto while. \n",
    "Utilizzeremo: un ciclo while \n",
    "la funzione print() \n",
    "una variabile, che dovrà essere inizializzata \n",
    "una procedura di incremento\"\"\""
   ]
  },
  {
   "cell_type": "code",
   "execution_count": 11,
   "id": "4f489b1b-9727-40a3-bd55-36f4d5b125da",
   "metadata": {},
   "outputs": [
    {
     "name": "stdout",
     "output_type": "stream",
     "text": [
      "[0, 1, 2, 3, 4, 5, 6, 7, 8, 9, 10, 11, 12, 13, 14, 15, 16, 17, 18, 19, 20]\n"
     ]
    }
   ],
   "source": [
    "numero = 0\n",
    "lista_numeri = []\n",
    "while numero <= 20:\n",
    "    lista_numeri.append(numero)\n",
    "    numero = numero + 1\n",
    "print(lista_numeri)\n",
    "    \n"
   ]
  },
  {
   "cell_type": "code",
   "execution_count": 12,
   "id": "3a239235-c87d-4020-a54d-04a2ae1f103c",
   "metadata": {},
   "outputs": [
    {
     "data": {
      "text/plain": [
       "'Calcolare e stampare tutte le prime 10 potenze di 2 (e.g., 2⁰, 2¹, 2², …) utilizzando un ciclo while.'"
      ]
     },
     "execution_count": 12,
     "metadata": {},
     "output_type": "execute_result"
    }
   ],
   "source": [
    "\"\"\"Calcolare e stampare tutte le prime 10 potenze di 2 (e.g., 2⁰, 2¹, 2², …) utilizzando un ciclo while.\"\"\""
   ]
  },
  {
   "cell_type": "code",
   "execution_count": 13,
   "id": "246eafa7-d073-4f2c-9f40-ec4bfb0b28de",
   "metadata": {},
   "outputs": [
    {
     "name": "stdout",
     "output_type": "stream",
     "text": [
      "1\n",
      "2\n",
      "4\n",
      "8\n",
      "16\n",
      "32\n",
      "64\n",
      "128\n",
      "256\n",
      "512\n",
      "1024\n"
     ]
    }
   ],
   "source": [
    "numero = 2\n",
    "potenza = 0\n",
    "while potenza <=10:\n",
    "    print(numero**potenza)\n",
    "    potenza += 1\n"
   ]
  },
  {
   "cell_type": "code",
   "execution_count": 14,
   "id": "6750e5f3-6da1-4474-a839-db5f614383be",
   "metadata": {},
   "outputs": [
    {
     "data": {
      "text/plain": [
       "\"Calcolare e stampare tutte le prime N potenze di 2 utilizzando un ciclo while, domandando all'utente di inserire N.\""
      ]
     },
     "execution_count": 14,
     "metadata": {},
     "output_type": "execute_result"
    }
   ],
   "source": [
    "\"\"\"Calcolare e stampare tutte le prime N potenze di 2 utilizzando un ciclo while, domandando all'utente di inserire N.\"\"\""
   ]
  },
  {
   "cell_type": "code",
   "execution_count": 19,
   "id": "a241a6c9-afcb-4b91-9d8e-a40664ba6986",
   "metadata": {},
   "outputs": [
    {
     "name": "stdin",
     "output_type": "stream",
     "text": [
      "Inserisci 3 esponenti separati dalla , 2,4,6\n"
     ]
    },
    {
     "name": "stdout",
     "output_type": "stream",
     "text": [
      "4\n",
      "16\n",
      "64\n"
     ]
    }
   ],
   "source": [
    "numero = 2\n",
    "stringa = input(\"Inserisci 3 esponenti separati dalla ,\")\n",
    "lista = stringa.split(\",\")\n",
    "for i in lista:\n",
    "    print(numero**int(i))"
   ]
  },
  {
   "cell_type": "code",
   "execution_count": 22,
   "id": "44f0aa44-d353-4077-9845-a9e20f8bb158",
   "metadata": {},
   "outputs": [
    {
     "name": "stdin",
     "output_type": "stream",
     "text": [
      "Inserisci l'esponente 2\n"
     ]
    },
    {
     "name": "stdout",
     "output_type": "stream",
     "text": [
      "4\n",
      "8\n",
      "16\n",
      "32\n",
      "64\n"
     ]
    }
   ],
   "source": [
    "numero = 2\n",
    "N = int(input(\"Inserisci l'esponente\"))\n",
    "Limite = N+4\n",
    "while N <= Limite:\n",
    "    print(numero**N)\n",
    "    N += 1"
   ]
  },
  {
   "cell_type": "code",
   "execution_count": 23,
   "id": "68eb116b-d71d-43a6-b093-299660ebe25d",
   "metadata": {},
   "outputs": [
    {
     "data": {
      "text/plain": [
       "'Calcolare e stampare tutte le potenze di 2 minori di 25000.'"
      ]
     },
     "execution_count": 23,
     "metadata": {},
     "output_type": "execute_result"
    }
   ],
   "source": [
    "\"\"\"Calcolare e stampare tutte le potenze di 2 minori di 25000.\"\"\"\n",
    "\n",
    "\n"
   ]
  },
  {
   "cell_type": "code",
   "execution_count": 24,
   "id": "7c9590bd-abcd-4966-a725-0af02489f679",
   "metadata": {},
   "outputs": [
    {
     "name": "stdout",
     "output_type": "stream",
     "text": [
      "1\n",
      "2\n",
      "4\n",
      "8\n",
      "16\n",
      "32\n",
      "64\n",
      "128\n",
      "256\n",
      "512\n",
      "1024\n",
      "2048\n",
      "4096\n",
      "8192\n",
      "16384\n"
     ]
    }
   ],
   "source": [
    "limite = 25000\n",
    "i = 0\n",
    "potenza = 0\n",
    "while potenza < limite: \n",
    "    potenza = 2**i\n",
    "    i += 1\n",
    "    if potenza <= limite:\n",
    "        print(potenza)\n"
   ]
  },
  {
   "cell_type": "code",
   "execution_count": 26,
   "id": "b5d6c5a6-8de0-4ef3-bf85-4e1c88cf7d84",
   "metadata": {},
   "outputs": [
    {
     "data": {
      "text/plain": [
       "'Abbiamo due liste, una di studenti e una di corsi. Aggiungere i dati mancanti alla lista corsi'"
      ]
     },
     "execution_count": 26,
     "metadata": {},
     "output_type": "execute_result"
    }
   ],
   "source": [
    "\"\"\"Abbiamo due liste, una di studenti e una di corsi. Aggiungere i dati mancanti alla lista corsi\"\"\""
   ]
  },
  {
   "cell_type": "code",
   "execution_count": 27,
   "id": "e273ff52-d00f-4f5a-a13b-f47f1253e715",
   "metadata": {},
   "outputs": [
    {
     "name": "stdout",
     "output_type": "stream",
     "text": [
      "Alex Cybersecurity\n",
      "Bob Data Analyst\n",
      "Cindy Backend\n",
      "Dan Frontend\n",
      "Emma Data Analyst\n",
      "Faith Backend\n",
      "Grace Frontend\n",
      "Henry Cybersecurity\n"
     ]
    }
   ],
   "source": [
    "studenti = [\"Alex\", \"Bob\", \"Cindy\", \"Dan\", \"Emma\", \"Faith\", \"Grace\", \"Henry\"] \n",
    "corsi = [\"Cybersecurity\", \"Data Analyst\", \"Backend\", \"Frontend\", \"Data Analyst\", \"Backend\"]\n",
    "corsi.append(\"Frontend\")\n",
    "corsi.append(\"Cybersecurity\")\n",
    "\n",
    "for _i, _v in zip(studenti, corsi):\n",
    "    print(_i,_v)\n",
    "            "
   ]
  },
  {
   "cell_type": "code",
   "execution_count": 28,
   "id": "1d86b99d-f89a-440a-af4a-819efee88528",
   "metadata": {},
   "outputs": [
    {
     "data": {
      "text/plain": [
       "\"Scriviamo un programma che chiede in input all'utente una stringa e visualizza i primi 3 caratteri, seguiti da 3 punti di sospensione e quindi gli ultimi 3 caratteri, similmente all'esercizio della lezione scorsa. Stavolta facciamo attenzione a tutti i casi particolari, ovvero implementare soluzioni ad hoc per stringhe di lunghezza inferiore a 6 caratteri\""
      ]
     },
     "execution_count": 28,
     "metadata": {},
     "output_type": "execute_result"
    }
   ],
   "source": [
    "\"\"\"Scriviamo un programma che chiede in input all'utente una stringa e visualizza i primi 3 caratteri, seguiti da 3 punti di sospensione e quindi gli ultimi 3 caratteri, similmente all'esercizio della lezione scorsa. Stavolta facciamo attenzione a tutti i casi particolari, ovvero implementare soluzioni ad hoc per stringhe di lunghezza inferiore a 6 caratteri\"\"\""
   ]
  },
  {
   "cell_type": "code",
   "execution_count": 33,
   "id": "1dd2d015-6522-4e7b-9caf-cd39351df617",
   "metadata": {},
   "outputs": [
    {
     "name": "stdin",
     "output_type": "stream",
     "text": [
      "Inserisci una stringa fiocco\n"
     ]
    },
    {
     "name": "stdout",
     "output_type": "stream",
     "text": [
      "fio...cco\n"
     ]
    }
   ],
   "source": [
    "stringa = input(\"Inserisci una stringa\")\n",
    "if len(stringa) >=6:\n",
    "    output = stringa[:3] + \"...\" + stringa[-3:]\n",
    "    print(output)\n",
    "else:\n",
    "     output = stringa[:int(len(stringa)/2)] + \"...\" + stringa[int(-(len(stringa)/2)):]\n",
    "     print(output)\n",
    "    "
   ]
  },
  {
   "cell_type": "code",
   "execution_count": 34,
   "id": "c6606962-f98d-496d-a3e5-c0fbbf15a814",
   "metadata": {},
   "outputs": [
    {
     "data": {
      "text/plain": [
       "'Memorizza e stampa tutti i fattori di un numero dato in input.'"
      ]
     },
     "execution_count": 34,
     "metadata": {},
     "output_type": "execute_result"
    }
   ],
   "source": [
    "\"\"\"Memorizza e stampa tutti i fattori di un numero dato in input.\"\"\""
   ]
  },
  {
   "cell_type": "code",
   "execution_count": 1,
   "id": "30507d87-3d43-4385-aff9-c1e86d4f9cc6",
   "metadata": {},
   "outputs": [
    {
     "name": "stdin",
     "output_type": "stream",
     "text": [
      "inserisci un numero:  4\n"
     ]
    },
    {
     "name": "stdout",
     "output_type": "stream",
     "text": [
      "[2, 2]\n"
     ]
    }
   ],
   "source": [
    "num = int(input(\"inserisci un numero: \"))\n",
    "divisore = 2\n",
    "fattori = []\n",
    "while num > 1:\n",
    "    if num % divisore == 0:\n",
    "        fattori.append(divisore)\n",
    "        num //= divisore\n",
    "\n",
    "else:\n",
    "    divisore += 1\n",
    "\n",
    "print(fattori)"
   ]
  },
  {
   "cell_type": "code",
   "execution_count": null,
   "id": "010b5f9a-c5b3-4836-a0d1-8159279bc8a4",
   "metadata": {},
   "outputs": [],
   "source": [
    "\"\"\"Abbiamo la stringa: nome_scuola = \"Epicode\" Stampare ogni carattere della stringa, uno su ogni riga, utilizzando un costrutto for.\"\"\""
   ]
  },
  {
   "cell_type": "code",
   "execution_count": 1,
   "id": "662d257f-0d4a-4b30-9158-67479fbc6d9e",
   "metadata": {},
   "outputs": [
    {
     "name": "stdout",
     "output_type": "stream",
     "text": [
      "E\n",
      "p\n",
      "i\n",
      "c\n",
      "o\n",
      "d\n",
      "e\n"
     ]
    }
   ],
   "source": [
    "nome_scuola = \"Epicode\"\n",
    "\n",
    "for carattere in nome_scuola:\n",
    "    print(carattere) \n"
   ]
  },
  {
   "cell_type": "code",
   "execution_count": 2,
   "id": "e6d79a35-d6ca-4a27-a80a-7bd36ddc4b99",
   "metadata": {},
   "outputs": [
    {
     "data": {
      "text/plain": [
       "'Calcolare e stampare tutte le prime 10 potenze di 2 utilizzando un ciclo.'"
      ]
     },
     "execution_count": 2,
     "metadata": {},
     "output_type": "execute_result"
    }
   ],
   "source": [
    "\"\"\"Calcolare e stampare tutte le prime 10 potenze di 2 utilizzando un ciclo.\"\"\""
   ]
  },
  {
   "cell_type": "code",
   "execution_count": 3,
   "id": "355c59e4-f280-45d4-bcce-188472e11871",
   "metadata": {},
   "outputs": [
    {
     "name": "stdout",
     "output_type": "stream",
     "text": [
      "1\n",
      "2\n",
      "4\n",
      "8\n",
      "16\n",
      "32\n",
      "64\n",
      "128\n",
      "256\n",
      "512\n"
     ]
    }
   ],
   "source": [
    "for esponente in range(10):\n",
    "    potenza = 2 ** esponente\n",
    "    print(potenza)\n"
   ]
  },
  {
   "cell_type": "code",
   "execution_count": 4,
   "id": "44cad6e7-b4eb-49d1-a800-cbd809c7fe1d",
   "metadata": {},
   "outputs": [
    {
     "data": {
      "text/plain": [
       "\"Calcolare (ma non stampare) le prime N potenze di K; ognuna di esse andrà memorizzata in coda a una lista. Alla fine, stampare la lista risultante. Proviamo con diversi valori di K, oppure facciamola inserire all'utente. Realizzare due versioni: • con un ciclo while, • con un ciclo for.\""
      ]
     },
     "execution_count": 4,
     "metadata": {},
     "output_type": "execute_result"
    }
   ],
   "source": [
    "\"\"\"Calcolare (ma non stampare) le prime N potenze di K; ognuna di esse andrà memorizzata in coda a una lista. Alla fine, stampare la lista risultante. Proviamo con diversi valori di K, oppure facciamola inserire all'utente. Realizzare due versioni: • con un ciclo while, • con un ciclo for.\"\"\""
   ]
  },
  {
   "cell_type": "code",
   "execution_count": 5,
   "id": "891663dc-0b2e-4a81-b47f-cfb0e5681b9c",
   "metadata": {},
   "outputs": [
    {
     "name": "stdin",
     "output_type": "stream",
     "text": [
      "Inserisci il valore di K:  2\n",
      "Inserisci il numero di potenze di K da calcolare:  3\n"
     ]
    },
    {
     "name": "stdout",
     "output_type": "stream",
     "text": [
      "La lista delle prime 3 potenze di 2 è: [1, 2, 4]\n"
     ]
    }
   ],
   "source": [
    "K = int(input(\"Inserisci il valore di K: \"))\n",
    "N = int(input(\"Inserisci il numero di potenze di K da calcolare: \"))\n",
    "\n",
    "potenze_di_K = []\n",
    "\n",
    "for esponente in range(N):\n",
    "    potenza = K ** esponente\n",
    "    potenze_di_K.append(potenza)\n",
    "\n",
    "print(\"La lista delle prime\", N, \"potenze di\", K, \"è:\", potenze_di_K)\n"
   ]
  },
  {
   "cell_type": "code",
   "execution_count": 1,
   "id": "cbbe6e27-5045-4797-8fae-eae1b9a7c9cc",
   "metadata": {},
   "outputs": [
    {
     "data": {
      "text/plain": [
       "'Esercizio Abbiamo una lista con i guadagni degli ultimi 12 mesi: guadagni = [100, 90, 70, 40, 50, 80, 90, 120, 80, 20, 50, 50] usando un costrutto for, calcolare la media dei guadagni e stamparla a video.'"
      ]
     },
     "execution_count": 1,
     "metadata": {},
     "output_type": "execute_result"
    }
   ],
   "source": [
    "\"\"\"Esercizio Abbiamo una lista con i guadagni degli ultimi 12 mesi: guadagni = [100, 90, 70, 40, 50, 80, 90, 120, 80, 20, 50, 50] usando un costrutto for, calcolare la media dei guadagni e stamparla a video.\"\"\""
   ]
  },
  {
   "cell_type": "code",
   "execution_count": 2,
   "id": "33741135-bbc0-4021-a60e-248a713a303a",
   "metadata": {},
   "outputs": [
    {
     "name": "stdout",
     "output_type": "stream",
     "text": [
      "La media dei guadagni degli ultimi 12 mesi è: 70.0\n"
     ]
    }
   ],
   "source": [
    "guadagni = [100, 90, 70, 40, 50, 80, 90, 120, 80, 20, 50, 50]\n",
    "\n",
    "somma_guadagni = 0\n",
    "for guadagno in guadagni:\n",
    "    somma_guadagni += guadagno\n",
    "\n",
    "media_guadagni = somma_guadagni / len(guadagni)\n",
    "print(\"La media dei guadagni degli ultimi 12 mesi è:\", media_guadagni)\n"
   ]
  },
  {
   "cell_type": "code",
   "execution_count": 3,
   "id": "7f11ca86-5e66-4868-99fd-0955290bd9b4",
   "metadata": {},
   "outputs": [
    {
     "data": {
      "text/plain": [
       "'Abbiamo una lista di parole: parole = [\"Albergo\", \"Sedia\", \"Borgo\", \"Petalo\", \"Eremo\", \"Belvedere\", \"Semestre\", \"Esteta\", \"Sosta\", \"Orpello\", \"Abete\", \"Orologio\", \"Cesta\", \"Ermellino\"] stampiamo, per ogni parola, quante volte appare la lettera \"e\"; facciamo attenzione al fatto che appare sia maiuscola che minuscola.'"
      ]
     },
     "execution_count": 3,
     "metadata": {},
     "output_type": "execute_result"
    }
   ],
   "source": [
    "\"\"\"Abbiamo una lista di parole: parole = [\"Albergo\", \"Sedia\", \"Borgo\", \"Petalo\", \"Eremo\", \"Belvedere\", \"Semestre\", \"Esteta\", \"Sosta\", \"Orpello\", \"Abete\", \"Orologio\", \"Cesta\", \"Ermellino\"] stampiamo, per ogni parola, quante volte appare la lettera \"e\"; facciamo attenzione al fatto che appare sia maiuscola che minuscola.\"\"\"\n"
   ]
  },
  {
   "cell_type": "code",
   "execution_count": 4,
   "id": "728a7076-d6e2-4ffd-8813-d432308abafb",
   "metadata": {},
   "outputs": [
    {
     "name": "stdout",
     "output_type": "stream",
     "text": [
      "Nella parola 'Albergo' la lettera 'e' appare 1 volte.\n",
      "Nella parola 'Sedia' la lettera 'e' appare 1 volte.\n",
      "Nella parola 'Borgo' la lettera 'e' appare 0 volte.\n",
      "Nella parola 'Petalo' la lettera 'e' appare 1 volte.\n",
      "Nella parola 'Eremo' la lettera 'e' appare 2 volte.\n",
      "Nella parola 'Belvedere' la lettera 'e' appare 4 volte.\n",
      "Nella parola 'Semestre' la lettera 'e' appare 3 volte.\n",
      "Nella parola 'Esteta' la lettera 'e' appare 2 volte.\n",
      "Nella parola 'Sosta' la lettera 'e' appare 0 volte.\n",
      "Nella parola 'Orpello' la lettera 'e' appare 1 volte.\n",
      "Nella parola 'Abete' la lettera 'e' appare 2 volte.\n",
      "Nella parola 'Orologio' la lettera 'e' appare 0 volte.\n",
      "Nella parola 'Cesta' la lettera 'e' appare 1 volte.\n",
      "Nella parola 'Ermellino' la lettera 'e' appare 2 volte.\n"
     ]
    }
   ],
   "source": [
    "parole = [\"Albergo\", \"Sedia\", \"Borgo\", \"Petalo\", \"Eremo\", \"Belvedere\", \"Semestre\", \"Esteta\", \"Sosta\", \"Orpello\", \"Abete\", \"Orologio\", \"Cesta\", \"Ermellino\"]\n",
    "\n",
    "for parola in parole:\n",
    "    conteggio_e = parola.lower().count('e')\n",
    "    print(f\"Nella parola '{parola}' la lettera 'e' appare {conteggio_e} volte.\")\n"
   ]
  },
  {
   "cell_type": "code",
   "execution_count": 5,
   "id": "74ea743b-8dcb-456f-b261-fa29ae4db516",
   "metadata": {},
   "outputs": [
    {
     "data": {
      "text/plain": [
       "\"Creiamo un dizionario che assegni ad ogni proprietario la sua auto, sapendo che: • Ada guida una Punto • Ben guida una Multipla • Charlie guida una Golf • Debbie guida una 107 Stampiamo il dizionario per intero, e poi l'auto associata a Debbie.\""
      ]
     },
     "execution_count": 5,
     "metadata": {},
     "output_type": "execute_result"
    }
   ],
   "source": [
    "\"\"\"Creiamo un dizionario che assegni ad ogni proprietario la sua auto, sapendo che: • Ada guida una Punto • Ben guida una Multipla • Charlie guida una Golf • Debbie guida una 107 Stampiamo il dizionario per intero, e poi l'auto associata a Debbie.\"\"\"\n"
   ]
  },
  {
   "cell_type": "code",
   "execution_count": 7,
   "id": "177973f3-5957-4ad7-8763-e32abc2e469b",
   "metadata": {},
   "outputs": [
    {
     "name": "stdout",
     "output_type": "stream",
     "text": [
      "Dizionario proprietario-auto:\n",
      "{'Ada': 'Punto', 'Ben': 'Multipla', 'Charlie': 'Golf', 'Debbie': '107'}\n",
      "L'auto associata a Debbie è: 107\n"
     ]
    }
   ],
   "source": [
    "# Creazione del dizionario\n",
    "proprietari_auto = {\n",
    "    \"Ada\": \"Punto\",\n",
    "    \"Ben\": \"Multipla\",\n",
    "    \"Charlie\": \"Golf\",\n",
    "    \"Debbie\": \"107\"\n",
    "}\n",
    "\n",
    "# Stampa del dizionario completo\n",
    "print(\"Dizionario proprietario-auto:\")\n",
    "print(proprietari_auto)\n",
    "\n",
    "# Stampa dell'auto associata a Debbie\n",
    "auto_debbie = proprietari_auto[\"Debbie\"]\n",
    "print(\"L'auto associata a Debbie è:\", auto_debbie)\n"
   ]
  },
  {
   "cell_type": "code",
   "execution_count": 8,
   "id": "8090e543-7a61-48d7-a8a8-a9c1722b50e0",
   "metadata": {},
   "outputs": [
    {
     "data": {
      "text/plain": [
       "'Abbiamo un dizionario che assegna ad ogni proprietario la sua auto: dizionario_auto = {\"Ada\": \"Punto\", \"Ben\": \"Multipla\", \"Charlie\": \"Golf\", \"Debbie\": \"107\"} Con un ciclo, e usando il metodo .values(), stampiamo a video tutte le auto che non sono una Multipla.'"
      ]
     },
     "execution_count": 8,
     "metadata": {},
     "output_type": "execute_result"
    }
   ],
   "source": [
    "\"\"\"Abbiamo un dizionario che assegna ad ogni proprietario la sua auto: dizionario_auto = {\"Ada\": \"Punto\", \"Ben\": \"Multipla\", \"Charlie\": \"Golf\", \"Debbie\": \"107\"} Con un ciclo, e usando il metodo .values(), stampiamo a video tutte le auto che non sono una Multipla.\"\"\"\n"
   ]
  },
  {
   "cell_type": "code",
   "execution_count": 9,
   "id": "e76fc202-7fef-44ff-8a74-37c438d5d6a8",
   "metadata": {},
   "outputs": [
    {
     "name": "stdout",
     "output_type": "stream",
     "text": [
      "Auto che non sono una Multipla:\n",
      "Punto\n",
      "Golf\n",
      "107\n"
     ]
    }
   ],
   "source": [
    "dizionario_auto = {\"Ada\": \"Punto\", \"Ben\": \"Multipla\", \"Charlie\": \"Golf\", \"Debbie\": \"107\"}\n",
    "\n",
    "print(\"Auto che non sono una Multipla:\")\n",
    "for auto in dizionario_auto.values():\n",
    "    if auto != \"Multipla\":\n",
    "        print(auto)\n"
   ]
  },
  {
   "cell_type": "code",
   "execution_count": 10,
   "id": "fb42c96e-8c74-498b-9d25-c3c1e5556c64",
   "metadata": {},
   "outputs": [
    {
     "data": {
      "text/plain": [
       "'Abbiamo due dizionari che assegnano ad ogni proprietario la propria auto: dizionario_auto = {\"Ada\": \"Punto\", \"Ben\": \"Multipla\", \"Charlie\": \"Golf\", \"Debbie\": \"107\", \"Emily\": \"A1\"} nuovi_proprietari = {\"Ben\": \"Polo\", \"Fred\": \"Octavia\", \"Grace\": \"Yaris\", \"Hugh\": \"Clio\"} Aggiornare il dizionario dizionario_auto con i dati contenuti in nuovi_proprietari e stamparlo. Cosa è successo a Ben?'"
      ]
     },
     "execution_count": 10,
     "metadata": {},
     "output_type": "execute_result"
    }
   ],
   "source": [
    "\"\"\"Abbiamo due dizionari che assegnano ad ogni proprietario la propria auto: dizionario_auto = {\"Ada\": \"Punto\", \"Ben\": \"Multipla\", \"Charlie\": \"Golf\", \"Debbie\": \"107\", \"Emily\": \"A1\"} nuovi_proprietari = {\"Ben\": \"Polo\", \"Fred\": \"Octavia\", \"Grace\": \"Yaris\", \"Hugh\": \"Clio\"} Aggiornare il dizionario dizionario_auto con i dati contenuti in nuovi_proprietari e stamparlo. Cosa è successo a Ben?\"\"\""
   ]
  },
  {
   "cell_type": "code",
   "execution_count": 15,
   "id": "6ff6f0a4-8625-49bc-bd11-337892412a26",
   "metadata": {},
   "outputs": [
    {
     "name": "stdout",
     "output_type": "stream",
     "text": [
      "Dizionario aggiornato:\n",
      "{'Ada': 'Punto', 'Ben': 'Polo', 'Charlie': 'Golf', 'Debbie': '107', 'Emily': 'A1', 'Fred': 'Octavia', 'Grace': 'Yaris', 'Hugh': 'Clio'}\n",
      "\n",
      "Cosa è successo a Ben?\n",
      "Ben ora possiede un Polo\n"
     ]
    }
   ],
   "source": [
    "dizionario_auto = {\"Ada\": \"Punto\", \"Ben\": \"Multipla\", \"Charlie\": \"Golf\", \"Debbie\": \"107\", \"Emily\": \"A1\"}\n",
    "nuovi_proprietari = {\"Ben\": \"Polo\", \"Fred\": \"Octavia\", \"Grace\": \"Yaris\", \"Hugh\": \"Clio\"}\n",
    "\n",
    "dizionario_auto.update(nuovi_proprietari)\n",
    "\n",
    "print(\"Dizionario aggiornato:\")\n",
    "print(dizionario_auto)\n",
    "print(\"\\nCosa è successo a Ben?\")\n",
    "if \"Ben\" in nuovi_proprietari:\n",
    "    print(f\"Ben ora possiede un {nuovi_proprietari['Ben']}\")\n",
    "else:\n",
    "    print(\"Ben non è stato aggiornato.\")\n"
   ]
  },
  {
   "cell_type": "code",
   "execution_count": 16,
   "id": "1f0f5eed-2173-4066-a153-43ecaf5e0fe1",
   "metadata": {},
   "outputs": [
    {
     "data": {
      "text/plain": [
       "'Scrivere un programma che, data una lista di numeri, fornisca in output il minimo e il massimo'"
      ]
     },
     "execution_count": 16,
     "metadata": {},
     "output_type": "execute_result"
    }
   ],
   "source": [
    "\"\"\"Scrivere un programma che, data una lista di numeri, fornisca in output il minimo e il massimo\"\"\""
   ]
  },
  {
   "cell_type": "code",
   "execution_count": 17,
   "id": "e1f3ecca-b78f-4e83-8cf1-c442882cad59",
   "metadata": {},
   "outputs": [
    {
     "name": "stdout",
     "output_type": "stream",
     "text": [
      "Il minimo è: 1\n",
      "Il massimo è: 10\n"
     ]
    }
   ],
   "source": [
    "def trova_minimo_massimo(lista_numeri):\n",
    "    if not lista_numeri:\n",
    "        return None, None  # Se la lista è vuota, restituiamo None per entrambi minimo e massimo\n",
    "    minimo = min(lista_numeri)\n",
    "    massimo = max(lista_numeri)\n",
    "    return minimo, massimo\n",
    "\n",
    "# Esempio di lista di numeri\n",
    "lista_numeri = [5, 3, 8, 2, 10, 1]\n",
    "\n",
    "# Trova il minimo e il massimo\n",
    "minimo, massimo = trova_minimo_massimo(lista_numeri)\n",
    "\n",
    "# Stampa il risultato\n",
    "print(\"Il minimo è:\", minimo)\n",
    "print(\"Il massimo è:\", massimo)\n"
   ]
  },
  {
   "cell_type": "code",
   "execution_count": 18,
   "id": "e2828c1d-2730-48f8-ba2b-a9aa1c4c9248",
   "metadata": {},
   "outputs": [
    {
     "data": {
      "text/plain": [
       "'Scrivere un programma che, data una lista di numeri, fornisca in output i tre numeri più grandi; gestire il caso in cui la lista sia più corta di tre, e quando uno o più dei numeri selezionati sono uguali.'"
      ]
     },
     "execution_count": 18,
     "metadata": {},
     "output_type": "execute_result"
    }
   ],
   "source": [
    "\"\"\"Scrivere un programma che, data una lista di numeri, fornisca in output i tre numeri più grandi; gestire il caso in cui la lista sia più corta di tre, e quando uno o più dei numeri selezionati sono uguali.\"\"\""
   ]
  },
  {
   "cell_type": "code",
   "execution_count": 19,
   "id": "7f8eac2c-a3da-4f53-a161-98ec712a9ed9",
   "metadata": {},
   "outputs": [
    {
     "name": "stdout",
     "output_type": "stream",
     "text": [
      "I tre numeri più grandi sono: [35, 30, 25]\n"
     ]
    }
   ],
   "source": [
    "def tre_numeri_piu_grandi(lista_numeri):\n",
    "    # Ordina la lista in ordine decrescente\n",
    "    lista_numeri_ordinata = sorted(lista_numeri, reverse=True)\n",
    "    \n",
    "    # Se la lista ha meno di tre numeri, gestisci questo caso\n",
    "    if len(lista_numeri_ordinata) < 3:\n",
    "        return lista_numeri_ordinata  # Restituisci la lista intera\n",
    "    \n",
    "    # Altrimenti, prendi i primi tre numeri\n",
    "    return lista_numeri_ordinata[:3]\n",
    "\n",
    "# Esempio di lista di numeri\n",
    "lista_numeri = [10, 20, 15, 25, 30, 20, 35]\n",
    "\n",
    "# Trova i tre numeri più grandi\n",
    "tre_numeri = tre_numeri_piu_grandi(lista_numeri)\n",
    "\n",
    "# Stampa il risultato\n",
    "print(\"I tre numeri più grandi sono:\", tre_numeri)\n"
   ]
  },
  {
   "cell_type": "code",
   "execution_count": 20,
   "id": "ef9825cb-2157-4de7-815b-94f411a0a823",
   "metadata": {},
   "outputs": [
    {
     "data": {
      "text/plain": [
       "'Scrivere un programma che • in input acquisisce una lista di numeri e un numero K • in output, dovrà restituire la media di tutti i numeri nella lista maggiori o uguali a K • se non ce ne dovesse essere nessuno, dovrà stampare a schermo un messaggio adeguato.'"
      ]
     },
     "execution_count": 20,
     "metadata": {},
     "output_type": "execute_result"
    }
   ],
   "source": [
    "\"\"\"Scrivere un programma che • in input acquisisce una lista di numeri e un numero K • in output, dovrà restituire la media di tutti i numeri nella lista maggiori o uguali a K • se non ce ne dovesse essere nessuno, dovrà stampare a schermo un messaggio adeguato.\"\"\""
   ]
  },
  {
   "cell_type": "code",
   "execution_count": 21,
   "id": "131bef7f-425b-448f-97a0-01069fe0621b",
   "metadata": {},
   "outputs": [
    {
     "name": "stdout",
     "output_type": "stream",
     "text": [
      "La media dei numeri maggiori o uguali a 20 è: 26.0\n"
     ]
    }
   ],
   "source": [
    "def media_numeri_maggiore_uguale(lista_numeri, K):\n",
    "    numeri_validi = [numero for numero in lista_numeri if numero >= K]\n",
    "\n",
    "    if not numeri_validi:\n",
    "        print(\"Non ci sono numeri maggiori o uguali a\", K)\n",
    "        return None\n",
    "    \n",
    "    media = sum(numeri_validi) / len(numeri_validi)\n",
    "    return media\n",
    "\n",
    "\n",
    "lista_numeri = [10, 20, 15, 25, 30, 20, 35]\n",
    "K = 20\n",
    "\n",
    "media = media_numeri_maggiore_uguale(lista_numeri, K)\n",
    "\n",
    "if media is not None:\n",
    "    print(\"La media dei numeri maggiori o uguali a\", K, \"è:\", media)\n"
   ]
  },
  {
   "cell_type": "code",
   "execution_count": 22,
   "id": "e848b6b7-9300-4a8a-b311-35b23d2eb606",
   "metadata": {},
   "outputs": [
    {
     "data": {
      "text/plain": [
       "\"Scrivere un programma che, data una lista di numeri, come output stamperà lo stesso numero di asterischi su righe diverse, ottenendo una semplice visualizzazione grafica Esempio, supponendo di avere il seguente input: numeri = [5, 2, 3, 4] L'output sarà: ***** ** *** ****\""
      ]
     },
     "execution_count": 22,
     "metadata": {},
     "output_type": "execute_result"
    }
   ],
   "source": [
    "\"\"\"Scrivere un programma che, data una lista di numeri, come output stamperà lo stesso numero di asterischi su righe diverse, ottenendo una semplice visualizzazione grafica Esempio, supponendo di avere il seguente input: numeri = [5, 2, 3, 4] L'output sarà: ***** ** *** ****\"\"\""
   ]
  },
  {
   "cell_type": "code",
   "execution_count": 23,
   "id": "2242c988-e058-400b-b258-75927b250d27",
   "metadata": {},
   "outputs": [
    {
     "name": "stdout",
     "output_type": "stream",
     "text": [
      "*****\n",
      "**\n",
      "***\n",
      "****\n"
     ]
    }
   ],
   "source": [
    "def stampa_asterischi(numeri):\n",
    "    for numero in numeri:\n",
    "        print('*' * numero)\n",
    "numeri = [5, 2, 3, 4]\n",
    "stampa_asterischi(numeri)\n"
   ]
  },
  {
   "cell_type": "code",
   "execution_count": 24,
   "id": "4c9cf6bb-0191-47d9-88d7-ed3ad5737cae",
   "metadata": {},
   "outputs": [
    {
     "data": {
      "text/plain": [
       "'Abbiamo una lista di codici fiscali: lista_cf = [\"ABCDEF95G01A123B\", \"GHIJKL91M02A321C\", \"MNOPQR89S03A456D\", \"STUVWX95Z04A654E\", \"XYZABC01D05A789F\", \"DEFGHI95J06A987G\"] • trovare i codici fiscali che contengono \"95\", metterli in una lista, e alla fine stamparla; • inoltre, per ognuno di essi, stampare a video i caratteri relativi al nome e cognome '"
      ]
     },
     "execution_count": 24,
     "metadata": {},
     "output_type": "execute_result"
    }
   ],
   "source": [
    "\"\"\"Abbiamo una lista di codici fiscali: lista_cf = [\"ABCDEF95G01A123B\", \"GHIJKL91M02A321C\", \"MNOPQR89S03A456D\", \"STUVWX95Z04A654E\", \"XYZABC01D05A789F\", \"DEFGHI95J06A987G\"] • trovare i codici fiscali che contengono \"95\", metterli in una lista, e alla fine stamparla; • inoltre, per ognuno di essi, stampare a video i caratteri relativi al nome e cognome \"\"\""
   ]
  },
  {
   "cell_type": "code",
   "execution_count": 26,
   "id": "42dd592b-844d-4bd1-8ddb-8ebeb104f0e8",
   "metadata": {},
   "outputs": [
    {
     "name": "stdout",
     "output_type": "stream",
     "text": [
      "Codici fiscali contenenti '95':\n",
      "['ABCDEF95G01A123B', 'STUVWX95Z04A654E', 'DEFGHI95J06A987G']\n",
      "\n",
      "Dettagli per ogni codice fiscale trovato:\n",
      "Nome: ABCDEF\n",
      "Cognome: 95G01A123\n",
      "\n",
      "Nome: STUVWX\n",
      "Cognome: 95Z04A654\n",
      "\n",
      "Nome: DEFGHI\n",
      "Cognome: 95J06A987\n",
      "\n"
     ]
    }
   ],
   "source": [
    "lista_cf = [\"ABCDEF95G01A123B\", \"GHIJKL91M02A321C\", \"MNOPQR89S03A456D\", \"STUVWX95Z04A654E\", \"XYZABC01D05A789F\", \"DEFGHI95J06A987G\"]\n",
    "cf_contenenti_95 = [cf for cf in lista_cf if \"95\" in cf]\n",
    "\n",
    "print(\"Codici fiscali contenenti '95':\")\n",
    "print(cf_contenenti_95)\n",
    "\n",
    "print(\"\\nDettagli per ogni codice fiscale trovato:\")\n",
    "for codice_fiscale in cf_contenenti_95:\n",
    "    nome = codice_fiscale[:6]\n",
    "    cognome = codice_fiscale[6:15]\n",
    "    print(\"Nome:\", nome)\n",
    "    print(\"Cognome:\", cognome)\n",
    "    print()\n"
   ]
  },
  {
   "cell_type": "code",
   "execution_count": 27,
   "id": "9bb4dae1-4a22-4065-be7c-b8e010af2b61",
   "metadata": {},
   "outputs": [
    {
     "data": {
      "text/plain": [
       "'Abbiamo tre liste della stessa lunghezza, dove ogni elemento nella medesima posizione si riferisce ai dati dello stesso studente: studenti = [\"Alex\", \"Bob\", \"Cindy\", \"Dan\", \"Emma\", \"Faith\", \"Grace\", \"Henry\"] corsi = [\"Cybersecurity\", \"Data Analyst\", \"Backend\", \"Frontend\", \"Data Analyst\", \"Backend\", \"Frontend\", \"Cybersecurity\"] edizioni = [1, 2, 3, 2, 2, 1, 3, 3] • Stampare a video tutti e soli gli studenti che frequentano una prima edizione; non tutti i dati potrebbero essere necessari.'"
      ]
     },
     "execution_count": 27,
     "metadata": {},
     "output_type": "execute_result"
    }
   ],
   "source": [
    "\"\"\"Abbiamo tre liste della stessa lunghezza, dove ogni elemento nella medesima posizione si riferisce ai dati dello stesso studente: studenti = [\"Alex\", \"Bob\", \"Cindy\", \"Dan\", \"Emma\", \"Faith\", \"Grace\", \"Henry\"] corsi = [\"Cybersecurity\", \"Data Analyst\", \"Backend\", \"Frontend\", \"Data Analyst\", \"Backend\", \"Frontend\", \"Cybersecurity\"] edizioni = [1, 2, 3, 2, 2, 1, 3, 3] • Stampare a video tutti e soli gli studenti che frequentano una prima edizione; non tutti i dati potrebbero essere necessari.\"\"\""
   ]
  },
  {
   "cell_type": "code",
   "execution_count": 28,
   "id": "59de9652-6216-4b40-83c5-aec6eb6b6e80",
   "metadata": {},
   "outputs": [
    {
     "name": "stdout",
     "output_type": "stream",
     "text": [
      "Studenti che frequentano la prima edizione:\n",
      "Alex\n",
      "Faith\n"
     ]
    }
   ],
   "source": [
    "studenti = [\"Alex\", \"Bob\", \"Cindy\", \"Dan\", \"Emma\", \"Faith\", \"Grace\", \"Henry\"]\n",
    "corsi = [\"Cybersecurity\", \"Data Analyst\", \"Backend\", \"Frontend\", \"Data Analyst\", \"Backend\", \"Frontend\", \"Cybersecurity\"]\n",
    "edizioni = [1, 2, 3, 2, 2, 1, 3, 3]\n",
    "\n",
    "print(\"Studenti che frequentano la prima edizione:\")\n",
    "for i in range(len(studenti)):\n",
    "    if edizioni[i] == 1:\n",
    "        print(studenti[i])\n"
   ]
  },
  {
   "cell_type": "code",
   "execution_count": 29,
   "id": "fdf38766-37ef-4db2-a825-cb4bc682083c",
   "metadata": {},
   "outputs": [
    {
     "data": {
      "text/plain": [
       "'Abbiamo una lista di studenti: studenti = [\"Alex\", \"Bob\", \"Cindy\", \"Dan\", \"Emma\", \"Faith\", \"Grace\", \"Henry\", \"Isabelle\", \"John\"] vogliamo dividere gli studenti in due squadre per un campionato di Uno nel seguente modo: selezioneremo i nomi in posizione pari per un squadra, e i nomi in posizione dispari per l\\'altra. Creiamo due liste per ogni squadra, e alla fine visualizziamole'"
      ]
     },
     "execution_count": 29,
     "metadata": {},
     "output_type": "execute_result"
    }
   ],
   "source": [
    "\"\"\"Abbiamo una lista di studenti: studenti = [\"Alex\", \"Bob\", \"Cindy\", \"Dan\", \"Emma\", \"Faith\", \"Grace\", \"Henry\", \"Isabelle\", \"John\"] vogliamo dividere gli studenti in due squadre per un campionato di Uno nel seguente modo: selezioneremo i nomi in posizione pari per un squadra, e i nomi in posizione dispari per l'altra. Creiamo due liste per ogni squadra, e alla fine visualizziamole\"\"\""
   ]
  },
  {
   "cell_type": "code",
   "execution_count": 30,
   "id": "02a92cb2-87fe-40c8-a434-953df07794fd",
   "metadata": {},
   "outputs": [
    {
     "name": "stdout",
     "output_type": "stream",
     "text": [
      "Squadra Pari: ['Alex', 'Cindy', 'Emma', 'Grace', 'Isabelle']\n",
      "Squadra Dispari: ['Bob', 'Dan', 'Faith', 'Henry', 'John']\n"
     ]
    }
   ],
   "source": [
    "studenti = [\"Alex\", \"Bob\", \"Cindy\", \"Dan\", \"Emma\", \"Faith\", \"Grace\", \"Henry\", \"Isabelle\", \"John\"]\n",
    "\n",
    "squadra_pari = []\n",
    "squadra_dispari = []\n",
    "\n",
    "for indice, studente in enumerate(studenti):\n",
    "    if indice % 2 == 0:\n",
    "        squadra_pari.append(studente)\n",
    "    else:\n",
    "        squadra_dispari.append(studente)\n",
    "\n",
    "print(\"Squadra Pari:\", squadra_pari)\n",
    "print(\"Squadra Dispari:\", squadra_dispari)\n"
   ]
  },
  {
   "cell_type": "code",
   "execution_count": 31,
   "id": "772b8d8c-2325-4d94-9de2-909487d360c7",
   "metadata": {},
   "outputs": [
    {
     "data": {
      "text/plain": [
       "\"Abbiamo una lista con i guadagni degli ultimi 12 mesi (supponiamo da Gennaio a Dicembre): guadagni = [100, 90, 70, 40, 50, 80, 90, 120, 80, 20, 50, 50] dobbiamo confrontare, stampando tutto a video, il guadagno di ogni mese con la media dei guadagni precedenti, e specificare nell'output se il guadagno attuale è maggiore o minore della media dei precedenti.\""
      ]
     },
     "execution_count": 31,
     "metadata": {},
     "output_type": "execute_result"
    }
   ],
   "source": [
    "\"\"\"Abbiamo una lista con i guadagni degli ultimi 12 mesi (supponiamo da Gennaio a Dicembre): guadagni = [100, 90, 70, 40, 50, 80, 90, 120, 80, 20, 50, 50] dobbiamo confrontare, stampando tutto a video, il guadagno di ogni mese con la media dei guadagni precedenti, e specificare nell'output se il guadagno attuale è maggiore o minore della media dei precedenti.\"\"\""
   ]
  },
  {
   "cell_type": "code",
   "execution_count": 32,
   "id": "757d9a10-d45e-4ca1-8595-3fe1cbfb627a",
   "metadata": {},
   "outputs": [
    {
     "name": "stdout",
     "output_type": "stream",
     "text": [
      "Il guadagno di 1° mese è 100, confrontato con la media dei guadagni precedenti è maggiore della media (0.00).\n",
      "Il guadagno di 2° mese è 90, confrontato con la media dei guadagni precedenti è minore della media (100.00).\n",
      "Il guadagno di 3° mese è 70, confrontato con la media dei guadagni precedenti è minore della media (95.00).\n",
      "Il guadagno di 4° mese è 40, confrontato con la media dei guadagni precedenti è minore della media (86.67).\n",
      "Il guadagno di 5° mese è 50, confrontato con la media dei guadagni precedenti è minore della media (75.00).\n",
      "Il guadagno di 6° mese è 80, confrontato con la media dei guadagni precedenti è maggiore della media (70.00).\n",
      "Il guadagno di 7° mese è 90, confrontato con la media dei guadagni precedenti è maggiore della media (71.67).\n",
      "Il guadagno di 8° mese è 120, confrontato con la media dei guadagni precedenti è maggiore della media (74.29).\n",
      "Il guadagno di 9° mese è 80, confrontato con la media dei guadagni precedenti è uguale della media (80.00).\n",
      "Il guadagno di 10° mese è 20, confrontato con la media dei guadagni precedenti è minore della media (80.00).\n",
      "Il guadagno di 11° mese è 50, confrontato con la media dei guadagni precedenti è minore della media (74.00).\n",
      "Il guadagno di 12° mese è 50, confrontato con la media dei guadagni precedenti è minore della media (71.82).\n"
     ]
    }
   ],
   "source": [
    "guadagni = [100, 90, 70, 40, 50, 80, 90, 120, 80, 20, 50, 50]\n",
    "\n",
    "for i in range(len(guadagni)):\n",
    "    guadagno_attuale = guadagni[i]\n",
    "    media_precedenti = sum(guadagni[:i]) / max(i, 1)  # Calcoliamo la media solo se ci sono elementi precedenti\n",
    "    \n",
    "    confronto = \"\"\n",
    "    if guadagno_attuale > media_precedenti:\n",
    "        confronto = \"maggiore\"\n",
    "    elif guadagno_attuale < media_precedenti:\n",
    "        confronto = \"minore\"\n",
    "    else:\n",
    "        confronto = \"uguale\"\n",
    "    \n",
    "    print(f\"Il guadagno di {i+1}° mese è {guadagno_attuale}, confrontato con la media dei guadagni precedenti è {confronto} della media ({media_precedenti:.2f}).\")\n"
   ]
  },
  {
   "cell_type": "code",
   "execution_count": null,
   "id": "2e876d94-a721-4ce4-b951-ba6a9ed9ea88",
   "metadata": {},
   "outputs": [],
   "source": []
  }
 ],
 "metadata": {
  "kernelspec": {
   "display_name": "Python 3 (ipykernel)",
   "language": "python",
   "name": "python3"
  },
  "language_info": {
   "codemirror_mode": {
    "name": "ipython",
    "version": 3
   },
   "file_extension": ".py",
   "mimetype": "text/x-python",
   "name": "python",
   "nbconvert_exporter": "python",
   "pygments_lexer": "ipython3",
   "version": "3.11.7"
  }
 },
 "nbformat": 4,
 "nbformat_minor": 5
}
