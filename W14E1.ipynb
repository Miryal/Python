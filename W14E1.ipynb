{
 "cells": [
  {
   "cell_type": "code",
   "execution_count": 4,
   "id": "bd1bf3fe-7985-47f4-b084-509f37b83145",
   "metadata": {},
   "outputs": [],
   "source": [
    "import numpy as np\n",
    "import pandas as pd\n",
    "import math"
   ]
  },
  {
   "cell_type": "code",
   "execution_count": null,
   "id": "d5f3ff4d-c484-4778-b887-b3bcdaf27312",
   "metadata": {},
   "outputs": [],
   "source": []
  },
  {
   "cell_type": "code",
   "execution_count": 1,
   "id": "ff1a8398-88a4-4921-baf4-2c557776d30c",
   "metadata": {},
   "outputs": [
    {
     "data": {
      "text/plain": [
       "'Abbiamo una lista di liste: mat = [[0, 1, 2, 3, 4], [5, 6, 7, 8, 9], [10, 11, 12, 13, 14]] Che tipo di struttura dati o matematica potrebbe rappresentare? Notare che tutte le liste \"interne\" sono della stessa dimensione Come facciamo per accedere ad un elemento in particolare?'"
      ]
     },
     "execution_count": 1,
     "metadata": {},
     "output_type": "execute_result"
    }
   ],
   "source": [
    "\"\"\"Abbiamo una lista di liste: mat = [[0, 1, 2, 3, 4], [5, 6, 7, 8, 9], [10, 11, 12, 13, 14]] Che tipo di struttura dati o matematica potrebbe rappresentare? Notare che tutte le liste \"interne\" sono della stessa dimensione Come facciamo per accedere ad un elemento in particolare?\"\"\""
   ]
  },
  {
   "cell_type": "code",
   "execution_count": 7,
   "id": "473312e4-4e38-4ff5-8eb7-82c7cb407b5e",
   "metadata": {},
   "outputs": [
    {
     "data": {
      "text/plain": [
       "\"Risposta: La lista di liste rappresenta un'array.\""
      ]
     },
     "execution_count": 7,
     "metadata": {},
     "output_type": "execute_result"
    }
   ],
   "source": [
    "\"\"\"Risposta: La lista di liste rappresenta un'array.\"\"\"\n",
    "\n"
   ]
  },
  {
   "cell_type": "code",
   "execution_count": 12,
   "id": "ea8e0232-576a-45dd-80ed-f5a8a8d12917",
   "metadata": {},
   "outputs": [
    {
     "data": {
      "text/plain": [
       "'Importiamo il modulo math e proviamo a usare le funzioni .sin() .cos() .factorial() e la variabile .pi la riconoscete?'"
      ]
     },
     "execution_count": 12,
     "metadata": {},
     "output_type": "execute_result"
    }
   ],
   "source": [
    "\"\"\"Importiamo il modulo math e proviamo a usare le funzioni .sin() .cos() .factorial() e la variabile .pi la riconoscete?\"\"\""
   ]
  },
  {
   "cell_type": "code",
   "execution_count": 14,
   "id": "a02f7266-19bb-412e-bba7-5d95cdedc6cb",
   "metadata": {},
   "outputs": [
    {
     "name": "stdout",
     "output_type": "stream",
     "text": [
      "0.6502878401571168\n"
     ]
    }
   ],
   "source": [
    "x = math.sin(15)\n",
    "print(x)"
   ]
  },
  {
   "cell_type": "code",
   "execution_count": 15,
   "id": "16070ec0-d961-401f-a420-a452a0d2ef6a",
   "metadata": {},
   "outputs": [
    {
     "name": "stdout",
     "output_type": "stream",
     "text": [
      "0.8342233605065102\n"
     ]
    }
   ],
   "source": [
    "y = math.cos(32)\n",
    "print(y)"
   ]
  },
  {
   "cell_type": "code",
   "execution_count": 16,
   "id": "24134ff1-8523-45a1-a311-d81036f9f175",
   "metadata": {},
   "outputs": [
    {
     "name": "stdout",
     "output_type": "stream",
     "text": [
      "710998587804863451854045647463724949736497978881168458687447040000000000000\n"
     ]
    }
   ],
   "source": [
    "a = math.factorial(56)\n",
    "print(a)"
   ]
  },
  {
   "cell_type": "code",
   "execution_count": 18,
   "id": "298d949e-5bb9-4832-b52d-a7ad1c9c5d2a",
   "metadata": {},
   "outputs": [
    {
     "name": "stdout",
     "output_type": "stream",
     "text": [
      "3.141592653589793\n"
     ]
    }
   ],
   "source": [
    "b = math.pi\n",
    "print(b)"
   ]
  },
  {
   "cell_type": "code",
   "execution_count": 19,
   "id": "425e6a13-33b7-429e-b044-e2b8af02fa9a",
   "metadata": {},
   "outputs": [
    {
     "data": {
      "text/plain": [
       "'Proviamo a eseguire math.degrees(math.pi) Qual è e cosa significa il risultato? Per saperne di più su questa funzione possiamo usare help(math.degrees)'"
      ]
     },
     "execution_count": 19,
     "metadata": {},
     "output_type": "execute_result"
    }
   ],
   "source": [
    "\"\"\"Proviamo a eseguire math.degrees(math.pi) Qual è e cosa significa il risultato? Per saperne di più su questa funzione possiamo usare help(math.degrees)\"\"\""
   ]
  },
  {
   "cell_type": "code",
   "execution_count": 20,
   "id": "097d5ef6-f091-442c-8356-fb0484d4dea4",
   "metadata": {},
   "outputs": [
    {
     "name": "stdout",
     "output_type": "stream",
     "text": [
      "180.0\n"
     ]
    }
   ],
   "source": [
    "c = math.degrees(math.pi)\n",
    "print(c)"
   ]
  },
  {
   "cell_type": "code",
   "execution_count": 21,
   "id": "1abeb2b3-c3f6-40f8-99c8-202f1d926dce",
   "metadata": {},
   "outputs": [
    {
     "name": "stdout",
     "output_type": "stream",
     "text": [
      "Help on built-in function degrees in module math:\n",
      "\n",
      "degrees(x, /)\n",
      "    Convert angle x from radians to degrees.\n",
      "\n"
     ]
    }
   ],
   "source": [
    "help(math.degrees)"
   ]
  },
  {
   "cell_type": "code",
   "execution_count": 22,
   "id": "d3250907-b1c1-4590-bae5-3d382eb3e367",
   "metadata": {},
   "outputs": [
    {
     "data": {
      "text/plain": [
       "\"L'azienda Object SpA ha creato una lista di quanti oggetti ha venduto ogni mese nell'ultimo anno: lst = [2000, 5500, 7200, 4320, 1280, 1900, 2500, 3900, 6410, 8150, 7100, 5350] trasformiamola in un array NumPy (casting): lst = np.array(lst) e rispondiamo alle domande del CEO della Object SpA: • qual è stata la vendita massima mensile? E quella minima? • quali sono le vendite mensili maggiori di 4999 oggetti? E quante ne sono? • quali sono le vendite minori di 3000 oggetti? • in media quanti oggetti sono stati venduti al mese?\""
      ]
     },
     "execution_count": 22,
     "metadata": {},
     "output_type": "execute_result"
    }
   ],
   "source": [
    "\"\"\"L'azienda Object SpA ha creato una lista di quanti oggetti ha venduto ogni mese nell'ultimo anno: lst = [2000, 5500, 7200, 4320, 1280, 1900, 2500, 3900, 6410, 8150, 7100, 5350] trasformiamola in un array NumPy (casting): lst = np.array(lst) e rispondiamo alle domande del CEO della Object SpA: • qual è stata la vendita massima mensile? E quella minima? • quali sono le vendite mensili maggiori di 4999 oggetti? E quante ne sono? • quali sono le vendite minori di 3000 oggetti? • in media quanti oggetti sono stati venduti al mese?\"\"\""
   ]
  },
  {
   "cell_type": "code",
   "execution_count": 23,
   "id": "f64c50a0-ca69-4af3-abdd-639fe8ca2f8a",
   "metadata": {},
   "outputs": [],
   "source": [
    "lst = [2000, 5500, 7200, 4320, 1280, 1900, 2500, 3900, 6410, 8150, 7100, 5350] "
   ]
  },
  {
   "cell_type": "code",
   "execution_count": 24,
   "id": "a1106eb3-0243-402d-b69e-b86961ab91f7",
   "metadata": {},
   "outputs": [],
   "source": [
    "lst = np.array(lst)"
   ]
  },
  {
   "cell_type": "code",
   "execution_count": 26,
   "id": "d2a0bf54-0e1f-4405-9654-00d01e98b56e",
   "metadata": {},
   "outputs": [
    {
     "name": "stdout",
     "output_type": "stream",
     "text": [
      "8150\n"
     ]
    }
   ],
   "source": [
    "print(lst.max())"
   ]
  },
  {
   "cell_type": "code",
   "execution_count": 27,
   "id": "bd19c34f-1fef-4329-a0bb-a15c1fdbe6d3",
   "metadata": {},
   "outputs": [
    {
     "name": "stdout",
     "output_type": "stream",
     "text": [
      "1280\n"
     ]
    }
   ],
   "source": [
    "print(lst.min())"
   ]
  },
  {
   "cell_type": "code",
   "execution_count": 28,
   "id": "c0b96bf4-1836-4312-b1c2-6300278139a0",
   "metadata": {},
   "outputs": [
    {
     "name": "stdout",
     "output_type": "stream",
     "text": [
      "4634.166666666667\n"
     ]
    }
   ],
   "source": [
    "print(lst.mean())"
   ]
  },
  {
   "cell_type": "code",
   "execution_count": 30,
   "id": "42d0c8e4-bb71-499c-b37a-57f1461aedde",
   "metadata": {},
   "outputs": [
    {
     "name": "stdout",
     "output_type": "stream",
     "text": [
      "[5500 7200 6410 8150 7100 5350]\n"
     ]
    }
   ],
   "source": [
    "filter = lst[lst>4999]\n",
    "print(filter)"
   ]
  },
  {
   "cell_type": "code",
   "execution_count": 31,
   "id": "638c3439-4153-40d7-94cf-2745ddf7f4c5",
   "metadata": {},
   "outputs": [
    {
     "name": "stdout",
     "output_type": "stream",
     "text": [
      "[2000 1280 1900 2500]\n"
     ]
    }
   ],
   "source": [
    "filter2 = lst[lst<3000]\n",
    "print(filter2)"
   ]
  },
  {
   "cell_type": "code",
   "execution_count": 36,
   "id": "bca37907-cbd7-40a4-8f58-2165e23193da",
   "metadata": {},
   "outputs": [
    {
     "data": {
      "text/plain": [
       "\"L'azienda Object SpA ha un dataset con tutti gli stipendi dei dipendenti, memorizzato in un ndarray: import numpy as np stipendi = np.array( [100, 200, 300, 400, 500,  600, 700, 800, 900, 1000] ) L'azienda ci chiede di raddoppiare tutti gli stipendi\""
      ]
     },
     "execution_count": 36,
     "metadata": {},
     "output_type": "execute_result"
    }
   ],
   "source": [
    "\"\"\"L'azienda Object SpA ha un dataset con tutti gli stipendi dei dipendenti, memorizzato in un ndarray: import numpy as np stipendi = np.array( [100, 200, 300, 400, 500,  600, 700, 800, 900, 1000] ) L'azienda ci chiede di raddoppiare tutti gli stipendi\"\"\""
   ]
  },
  {
   "cell_type": "code",
   "execution_count": 33,
   "id": "17aea199-7eda-4309-b7f0-88b3ab516a15",
   "metadata": {},
   "outputs": [],
   "source": [
    "import numpy as np \n",
    "stipendi = np.array( [100, 200, 300, 400, 500,  600, 700, 800, 900, 1000] ) "
   ]
  },
  {
   "cell_type": "code",
   "execution_count": 34,
   "id": "8c9eed8a-1adf-4bff-b3c6-3f46c30cd605",
   "metadata": {},
   "outputs": [
    {
     "name": "stdout",
     "output_type": "stream",
     "text": [
      "[ 100  200  300  400  500  600  700  800  900 1000]\n"
     ]
    }
   ],
   "source": [
    "print(stipendi)"
   ]
  },
  {
   "cell_type": "code",
   "execution_count": 35,
   "id": "d9442c8d-034b-46fe-87e4-807835252f33",
   "metadata": {},
   "outputs": [
    {
     "name": "stdout",
     "output_type": "stream",
     "text": [
      "200\n",
      "Lista stipendi raddoppiati [200, 400, 600, 800, 1000, 1200, 1400, 1600, 1800, 2000]\n"
     ]
    }
   ],
   "source": [
    "lista_stipendi_raddoppiati = []\n",
    "lista_stipendi_raddoppiati_com = []\n",
    "print(stipendi[1])\n",
    "for stipendio in stipendi:\n",
    "    lista_stipendi_raddoppiati.append(stipendio*2)\n",
    "print(\"Lista stipendi raddoppiati\", lista_stipendi_raddoppiati)"
   ]
  },
  {
   "cell_type": "code",
   "execution_count": null,
   "id": "d41de31b-1005-46a9-ae0b-f584e525871e",
   "metadata": {},
   "outputs": [],
   "source": []
  }
 ],
 "metadata": {
  "kernelspec": {
   "display_name": "Python 3 (ipykernel)",
   "language": "python",
   "name": "python3"
  },
  "language_info": {
   "codemirror_mode": {
    "name": "ipython",
    "version": 3
   },
   "file_extension": ".py",
   "mimetype": "text/x-python",
   "name": "python",
   "nbconvert_exporter": "python",
   "pygments_lexer": "ipython3",
   "version": "3.11.7"
  }
 },
 "nbformat": 4,
 "nbformat_minor": 5
}
